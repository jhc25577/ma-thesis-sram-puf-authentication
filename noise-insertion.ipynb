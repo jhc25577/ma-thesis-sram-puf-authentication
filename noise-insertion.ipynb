{
 "cells": [
  {
   "cell_type": "code",
   "execution_count": 1,
   "id": "94a5000f",
   "metadata": {},
   "outputs": [],
   "source": [
    "## extension to @Reshmi \n",
    "## importing required packages\n",
    "import numpy as np\n",
    "from skimage.util import random_noise\n",
    "import cv2\n",
    "import glob,os\n",
    "from PIL import Image\n",
    "\n"
   ]
  },
  {
   "cell_type": "code",
   "execution_count": 3,
   "id": "87ec9667",
   "metadata": {},
   "outputs": [],
   "source": [
    "## source path rgb converted\n",
    "path = '/home/stark/thesis/sram/dataxmc/tflite-exp/intact-5-rgb'\n",
    "\n",
    "## destination\n",
    "dest_path = '/home/stark/thesis/sram/dataxmc/tflite-exp/noisy-5-rgb'"
   ]
  },
  {
   "cell_type": "code",
   "execution_count": 4,
   "id": "a233e8fa",
   "metadata": {},
   "outputs": [],
   "source": [
    "# list all folders in a directary\n",
    "folders = []\n",
    "for filename in os.listdir(path):\n",
    "    if filename.startswith('board'):\n",
    "        folders.append(filename)\n",
    "\n",
    "# creating target folders\n",
    "for folder in folders:\n",
    "    os.mkdir(os.path.join(dest_path,folder))\n",
    "    \n",
    "def file_to_image(folder):\n",
    "  name =[]\n",
    "  for file in os.listdir(os.path.join(path,folder)):\n",
    "    name.append(file)\n",
    "  for file in name:\n",
    "    if file.startswith('board'):\n",
    "        img =  cv2.imread(os.path.join(path,folder,file))\n",
    "        noise_img = random_noise(img, mode='gaussian', mean=0, var=0.05, clip=True)\n",
    "        noise_img = (255*noise_img).astype(np.uint8)\n",
    "        image = Image.fromarray(noise_img)\n",
    "        new_filename = file.split('.png')[0] + 'noise.png'\n",
    "        image.save(os.path.join(dest_path,folder,new_filename))\n",
    "        \n",
    "        \n",
    "    \n",
    "for folder in folders:\n",
    "    images = file_to_image(folder)\n"
   ]
  },
  {
   "cell_type": "code",
   "execution_count": null,
   "id": "514c4e9e",
   "metadata": {},
   "outputs": [],
   "source": []
  }
 ],
 "metadata": {
  "kernelspec": {
   "display_name": "Python 3 (ipykernel)",
   "language": "python",
   "name": "python3"
  },
  "language_info": {
   "codemirror_mode": {
    "name": "ipython",
    "version": 3
   },
   "file_extension": ".py",
   "mimetype": "text/x-python",
   "name": "python",
   "nbconvert_exporter": "python",
   "pygments_lexer": "ipython3",
   "version": "3.9.16"
  }
 },
 "nbformat": 4,
 "nbformat_minor": 5
}
