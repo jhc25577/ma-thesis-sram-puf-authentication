{
 "cells": [
  {
   "cell_type": "code",
   "execution_count": 4,
   "id": "2eacf395",
   "metadata": {},
   "outputs": [],
   "source": [
    "## extension to @Reshmi \n",
    "## importing required packages\n",
    "import os,glob\n",
    "import random\n",
    "from itertools import cycle,islice\n",
    "from PIL import Image\n",
    "import numpy as np      \n",
    "import numpy\n",
    "import cv2\n",
    "import time"
   ]
  },
  {
   "cell_type": "code",
   "execution_count": 5,
   "id": "a05f7b59",
   "metadata": {},
   "outputs": [],
   "source": [
    "## source path\n",
    "path = '/home/stark/thesis/sram/dataxmc/tflite-exp/raw-5'\n",
    "\n",
    "## corrupted 20%-bottom\n",
    "dest_path = '/home/stark/thesis/sram/dataxmc/tflite-exp/corrupted-5'\n",
    "\n",
    "## corrupted 20%-top\n",
    "#dest_path = '/content/drive/MyDrive/tflite_model_management/dataset/corrupted/20-top'\n",
    "\n",
    "## corrupted 10%-both-side\n",
    "#dest_path = '/content/drive/MyDrive/tflite_model_management/dataset/corrupted/10-every-side'"
   ]
  },
  {
   "cell_type": "code",
   "execution_count": 6,
   "id": "f8649c17",
   "metadata": {},
   "outputs": [
    {
     "name": "stdout",
     "output_type": "stream",
     "text": [
      "The time of execution of above program is : 276.86079502105713\n"
     ]
    }
   ],
   "source": [
    "# starting timer\n",
    "start = time.time()\n",
    "\n",
    "# fetching source images\n",
    "folders = []\n",
    "for filename in os.listdir(path):\n",
    "    if filename.startswith('board'):\n",
    "        folders.append(filename)\n",
    "\n",
    "# create target folders\n",
    "for folder in folders:\n",
    "    os.mkdir(os.path.join(dest_path,folder))\n",
    "\n",
    "# image traversal    \n",
    "def file_to_image(folder):\n",
    "  name =[]\n",
    "  for file in os.listdir(os.path.join(path,folder)):\n",
    "    name.append(file)\n",
    "  for file in name:\n",
    "    if file.startswith('board'):\n",
    "        f = open(os.path.join(path,folder,file), \"rb\")\n",
    "        s =f.read()\n",
    "        binvalue = list(bytearray(s))\n",
    "        n  = int(len(binvalue)*0.20) # percentage of bits to be corrupted (25% ~ 0.25)\n",
    "        new=[]\n",
    "\n",
    "        binvalue[-n:] =  [0] * n  ## fill from bottom\n",
    "\n",
    "        #binvalue[:n] =  [0] * n  ## fill from top\n",
    "\n",
    "        for i in binvalue:\n",
    "            new.append(bin(int(i))[2:].zfill(8))\n",
    "        str1 = ''.join(str(e) for e in new)\n",
    "        string_2_int =[int(i) for element in str1 for i in element]\n",
    "        string_2_int = np.array(string_2_int)\n",
    "        length = int(len(string_2_int)/1024)    \n",
    "        data_2_img = string_2_int.reshape(length,1024)\n",
    "        image = Image.fromarray((data_2_img * 255).astype('uint8'), mode ='L')\n",
    "        new_filename = file.split(' ')[0] + '.png'\n",
    "        image.save(os.path.join(dest_path,folder,new_filename))\n",
    "        \n",
    "        \n",
    "    \n",
    "for folder in folders:\n",
    "    images = file_to_image(folder)\n",
    "\n",
    "\n",
    "\n",
    "end = time.time()\n",
    "\n",
    "print(\"The time of execution of above program is :\", end-start)"
   ]
  },
  {
   "cell_type": "code",
   "execution_count": null,
   "id": "8833609a",
   "metadata": {},
   "outputs": [],
   "source": []
  }
 ],
 "metadata": {
  "kernelspec": {
   "display_name": "Python 3 (ipykernel)",
   "language": "python",
   "name": "python3"
  },
  "language_info": {
   "codemirror_mode": {
    "name": "ipython",
    "version": 3
   },
   "file_extension": ".py",
   "mimetype": "text/x-python",
   "name": "python",
   "nbconvert_exporter": "python",
   "pygments_lexer": "ipython3",
   "version": "3.9.16"
  }
 },
 "nbformat": 4,
 "nbformat_minor": 5
}
